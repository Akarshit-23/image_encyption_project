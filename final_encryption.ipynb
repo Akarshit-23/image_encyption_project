{
 "cells": [
  {
   "cell_type": "code",
   "execution_count": 35,
   "id": "8b43219b",
   "metadata": {},
   "outputs": [],
   "source": [
    "from PIL import Image\n",
    "import os\n",
    "import time\n",
    "import numpy as np\n",
    "import matplotlib.pyplot as plt"
   ]
  },
  {
   "cell_type": "code",
   "execution_count": 36,
   "id": "6189eef6",
   "metadata": {},
   "outputs": [],
   "source": [
    "directory = \"motorbike\"\n",
    "\n",
    "image_list = []\n",
    "for filename in os.listdir(directory):\n",
    "    if filename.endswith(\".jpg\") or filename.endswith(\".png\"):\n",
    "        img = Image.open(os.path.join(directory, filename))\n",
    "        image_list.append(img)"
   ]
  },
  {
   "cell_type": "code",
   "execution_count": 37,
   "id": "3653d8b8",
   "metadata": {},
   "outputs": [],
   "source": [
    "new_size = (256, 256)  # Example size\n",
    "resized_images = [img.resize(new_size) for img in image_list]"
   ]
  },
  {
   "cell_type": "code",
   "execution_count": 38,
   "id": "9866b86c",
   "metadata": {},
   "outputs": [],
   "source": [
    "numpy_images = [np.array(img) for img in resized_images]"
   ]
  },
  {
   "cell_type": "code",
   "execution_count": 39,
   "id": "41907ffe",
   "metadata": {},
   "outputs": [
    {
     "data": {
      "text/plain": [
       "(256, 256, 3)"
      ]
     },
     "execution_count": 39,
     "metadata": {},
     "output_type": "execute_result"
    }
   ],
   "source": [
    "numpy_images[0].shape"
   ]
  },
  {
   "cell_type": "code",
   "execution_count": 40,
   "id": "35b4cd08",
   "metadata": {},
   "outputs": [],
   "source": [
    "# s-box generated using chaotic map and heuristic method\n",
    "s_box = [\n",
    "    [110, 68, 222, 159, 44, 19, 51, 121, 179, 106, 83, 187, 157, 228, 152, 62],\n",
    "    [254, 240, 130, 97, 117, 173, 170, 213, 31, 84, 96, 239, 52, 1, 47, 245],\n",
    "    [234, 225, 164, 58, 137, 95, 178, 14, 4, 42, 252, 140, 177, 66, 10, 53],\n",
    "    [35, 101, 186, 12, 145, 126, 184, 141, 189, 206, 112, 156, 99, 75, 196, 63],\n",
    "    [236, 251, 30, 135, 114, 102, 199, 67, 120, 88, 241, 15, 94, 233, 182, 122],\n",
    "    [244, 127, 70, 18, 93, 20, 133, 131, 40, 255, 180, 124, 27, 8, 9, 72],\n",
    "    [7, 26, 230, 146, 32, 129, 0, 183, 214, 235, 205, 215, 16, 246, 60, 242],\n",
    "    [204, 33, 41, 202, 107, 142, 203, 210, 50, 223, 13, 79, 2, 221, 163, 98],\n",
    "    [162, 188, 212, 108, 118, 168, 227, 195, 175, 38, 86, 174, 218, 190, 200, 24],\n",
    "    [191, 207, 73, 172, 100, 87, 105, 103, 217, 149, 11, 229, 111, 226, 69, 211],\n",
    "    [243, 23, 85, 28, 136, 109, 55, 161, 119, 198, 45, 56, 74, 160, 36, 39],\n",
    "    [158, 6, 253, 64, 169, 139, 238, 21, 150, 144, 61, 81, 22, 181, 249, 104],\n",
    "    [155, 209, 194, 138, 125, 167, 71, 176, 116, 232, 89, 237, 29, 151, 80, 247],\n",
    "    [219, 48, 43, 208, 193, 147, 49, 224, 128, 46, 143, 216, 3, 197, 65, 113],\n",
    "    [92, 115, 231, 76, 82, 192, 59, 248, 5, 220, 201, 25, 132, 17, 134, 250],\n",
    "    [154, 148, 166, 91, 78, 57, 34, 185, 123, 54, 153, 165, 77, 90, 171, 37]\n",
    "]\n",
    "S_box = np.array(s_box)"
   ]
  },
  {
   "cell_type": "code",
   "execution_count": 41,
   "id": "76b261cf",
   "metadata": {},
   "outputs": [],
   "source": [
    "def scrambling_img(img_arr):\n",
    "    \n",
    "    # 2) dividing the image into red, green and blue channels\n",
    "    red = img_arr[:, : , 0:1]\n",
    "    green = img_arr[:, : , 1:2]\n",
    "    blue = img_arr[:, :, 2:3]\n",
    "    \n",
    "    red1 = np.empty((256, 256, 1), dtype=object)\n",
    "    green1 = np.empty((256, 256, 1), dtype=object)\n",
    "    blue1 = np.empty((256, 256, 1), dtype=object)\n",
    "    \n",
    "    for i in range(256):\n",
    "        for j in range(256):\n",
    "            red1[i][j][0] = format(red[i][j][0], '08b')\n",
    "            green1[i][j][0] = format(green[i][j][0], '08b')\n",
    "            blue1[i][j][0] = format(blue[i][j][0], '08b')\n",
    "    # Combining bits for each channel\n",
    "    combined_matrix = np.concatenate((red1, green1, blue1), axis=2)\n",
    "    combined_matrix = combined_matrix.reshape(-1)\n",
    "    #Separate the vector into small vectors of size 16 bits\n",
    "    new_combined_matrix = np.array([combined_matrix[i] + combined_matrix[i + 1] for i in range(0, len(combined_matrix), 2)])\n",
    "    new_mat = new_combined_matrix\n",
    "    new_mat = replace_bits(new_mat)\n",
    "    binary_array_8_bit = split_16bit_to_8bit(new_mat)\n",
    "    new_lst = list()\n",
    "    for str in binary_array_8_bit:\n",
    "        integer_value = int(str, 2)\n",
    "        new_lst.append(integer_value)\n",
    "    original_vector = np.array(new_lst)\n",
    "    reshaped_array = original_vector.reshape(768, 256)\n",
    "    \n",
    "    final_lst = list()\n",
    "    for arr in reshaped_array:\n",
    "        lst = list()\n",
    "        output_array = S_box[arr // 16, arr % 16]\n",
    "        lst = output_array.tolist()\n",
    "        final_lst.append(lst)\n",
    "    final_array = np.array(final_lst)\n",
    "    final_arr = final_array.reshape(256, 256, 3)\n",
    "    return final_arr"
   ]
  },
  {
   "cell_type": "code",
   "execution_count": 42,
   "id": "53678f70",
   "metadata": {},
   "outputs": [],
   "source": [
    "def replace_bits(arr):\n",
    "    for i in range(len(arr)):\n",
    "        # Convert binary string to a list of characters\n",
    "        binary_list = list(arr[i])\n",
    "        \n",
    "        # Replace 1 to 4 bits with last 4 bits\n",
    "        binary_list[:4] = binary_list[-4:]\n",
    "        \n",
    "        # Convert list back to a string and update the array\n",
    "        arr[i] = ''.join(binary_list)\n",
    "    return arr   "
   ]
  },
  {
   "cell_type": "code",
   "execution_count": 43,
   "id": "65a0f5ac",
   "metadata": {},
   "outputs": [],
   "source": [
    "# code to split 16 bit strings into 8 bit\n",
    "def split_16bit_to_8bit(arr):\n",
    "    new_array = []\n",
    "    for string in arr:\n",
    "        # Split each 16-bit string into two 8-bit strings\n",
    "        eight_bit_strings = [string[i:i+8] for i in range(0, len(string), 8)]\n",
    "        \n",
    "        # Extend the new array with the 8-bit strings\n",
    "        new_array.extend(eight_bit_strings)\n",
    "    \n",
    "    return np.array(new_array)"
   ]
  },
  {
   "cell_type": "code",
   "execution_count": 44,
   "id": "c6e0d2f7",
   "metadata": {},
   "outputs": [],
   "source": [
    "hyper_key = np.zeros((256, 256, 3), dtype=np.uint8)\n",
    "def encryption(final_arr):\n",
    "    X = [0.1]  # Initial value for logistic map\n",
    "    C = 3.9999\n",
    "    henon_a = 1.76\n",
    "    henon_b = 0.1\n",
    "    # Generate Logistic Map sequence\n",
    "    for i in range(1, 257 * 256):\n",
    "        X.append(logistic_map(X[i - 1], C))\n",
    "    # Initialize HyperLogVarHénon matrix\n",
    "    HyperLogVarHénon = np.zeros((256, 256, 3), dtype=np.uint8)\n",
    "    for i in range(256):\n",
    "        for j in range(256):\n",
    "            idx = i * 256 + j\n",
    "            if idx % 2 == 0:  # Even position\n",
    "            \n",
    "                x_next = henon_a - X[idx] ** 2 - henon_b * X[idx + 1]\n",
    "                y_next = X[idx]\n",
    "                z_next = X[idx + 1]\n",
    "            else:  # Odd position\n",
    "                x_next = X[idx]\n",
    "                y_next = X[idx]\n",
    "                z_next = X[idx + 1]\n",
    "        # Scale and round the values to convert to unsigned integers\n",
    "            x_next = round(x_next * 255)\n",
    "            y_next = round(y_next * 255)\n",
    "            z_next = round(z_next * 255)\n",
    "\n",
    "        # Ensure the values are within the 0-255 range\n",
    "            x_next = min(max(x_next, 0), 255)\n",
    "            y_next = min(max(y_next, 0), 255)\n",
    "            z_next = min(max(z_next, 0), 255)\n",
    "\n",
    "        # Store values as unsigned integers in the matrix\n",
    "            HyperLogVarHénon[i, j] = [x_next, y_next, z_next]\n",
    "    \n",
    "    hyper_key = HyperLogVarHénon\n",
    "    # Divide the HyperLogVarHénon map matrix into three matrices with a length of 256 × 256 values so that there is a key matrix for the red, green and blue channels.\n",
    "    red_key = hyper_key[:, : , 0:1] \n",
    "    green_key = hyper_key[:, : , 1:2]\n",
    "    blue_key = hyper_key[:, :, 2:3]\n",
    "    \n",
    "    red_arr = final_arr[:, : , 0:1]\n",
    "    green_arr = final_arr[:, : , 1:2]\n",
    "    blue_arr = final_arr[:, :, 2:3]\n",
    "    \n",
    "    result1 = np.bitwise_xor(red_arr, red_key)\n",
    "    result2 = np.bitwise_xor(green_arr, green_key)\n",
    "    result3 = np.bitwise_xor(blue_arr, blue_key)\n",
    "    \n",
    "    result = np.concatenate((result1, result2, result3), axis=2)\n",
    "    \n",
    "    encrypted_image = Image.fromarray(np.uint8(result))\n",
    "    return result"
   ]
  },
  {
   "cell_type": "code",
   "execution_count": 45,
   "id": "579dfeb8",
   "metadata": {},
   "outputs": [],
   "source": [
    "def logistic_map(x, c):\n",
    "    return c * x * (1 - x)"
   ]
  },
  {
   "cell_type": "code",
   "execution_count": 48,
   "id": "65f7b78c",
   "metadata": {},
   "outputs": [
    {
     "name": "stdout",
     "output_type": "stream",
     "text": [
      "Information Entropy: 7.8312907335988715\n",
      "NPCR: 99.64%\n",
      "uaci 0.39478596207363154\n",
      "the mean squared error is  15147.577412923178\n",
      "0.7538483142852783\n"
     ]
    }
   ],
   "source": [
    "time1 = time.time()\n",
    "res1 = scrambling_img(numpy_images[0])\n",
    "res = encryption(res1)\n",
    "\n",
    "time2 = time.time()\n",
    "analysis(res, numpy_images[0])\n",
    "print(time2-time1)"
   ]
  },
  {
   "cell_type": "code",
   "execution_count": 47,
   "id": "edb01eb1",
   "metadata": {},
   "outputs": [],
   "source": [
    " def analysis(result, img_arr):\n",
    "        \n",
    "        # information Entropy\n",
    "        flat_array = result.flatten()\n",
    "\n",
    "        # Calculate the frequency of each unique value\n",
    "        value, counts = np.unique(flat_array, return_counts=True)\n",
    "\n",
    "        # Calculate probabilities\n",
    "        probabilities = counts / len(flat_array)\n",
    "\n",
    "        # Calculate information entropy\n",
    "        entropy = -np.sum(probabilities * np.log2(probabilities))\n",
    "\n",
    "        print(\"Information Entropy:\", entropy)\n",
    "        pixel_difference = np.sum(img_arr != result)\n",
    "\n",
    "        # Calculate total pixels (total elements in one image matrix)\n",
    "        total_pixels = np.prod(img_arr.shape)\n",
    "\n",
    "        # Calculate NPCR\n",
    "        npcr = (pixel_difference / total_pixels) * 100\n",
    "\n",
    "        print(f\"NPCR: {npcr:.2f}%\")\n",
    "        \n",
    "        # calculate UACI\n",
    "        total_pixels = img_arr.size\n",
    "\n",
    "    # Calculate the absolute difference in intensity between matrices\n",
    "        abs_diff = np.abs(img_arr - result)\n",
    "\n",
    "    # Calculate the total sum of absolute differences (TSAD)\n",
    "        tsad = np.sum(abs_diff)\n",
    "\n",
    "    # Normalize the TSAD and calculate the UACI value\n",
    "        uaci = tsad / (255 * total_pixels)\n",
    "        print(\"uaci\", uaci)\n",
    "        \n",
    "        print(\"the mean squared error is \", mse(img_arr, result))"
   ]
  },
  {
   "cell_type": "code",
   "execution_count": 65,
   "id": "8beb6f06",
   "metadata": {},
   "outputs": [],
   "source": [
    "def graphical_analysis(result, img_arr):\n",
    "    plot_histogram_red(result)\n",
    "    plot_histogram_green(result)\n",
    "    plot_histogram_blue(result)\n"
   ]
  },
  {
   "cell_type": "code",
   "execution_count": 17,
   "id": "4236e74a",
   "metadata": {},
   "outputs": [
    {
     "data": {
      "image/png": "[encoded data removed]",
      "text/plain": [
       "<Figure size 1000x500 with 3 Axes>"
      ]
     },
     "metadata": {},
     "output_type": "display_data"
    }
   ],
   "source": [
    "import numpy as np\n",
    "import matplotlib.pyplot as plt\n",
    "\n",
    "# Assuming you have your encrypted image matrix as encrypted_image (256x256x3)\n",
    "# Replace this with your actual encrypted image matrix\n",
    "\n",
    "# Generate a random 256x256x3 matrix as an example\n",
    "#encrypted_image = np.random.randint(0, 256, size=(256, 256, 3), dtype=np.uint8)\n",
    "\n",
    "# Separate color channels (R, G, B)\n",
    "red_channel = res[:, :, 0]\n",
    "green_channel = res[:, :, 1]\n",
    "blue_channel = res[:, :, 2]\n",
    "\n",
    "# Calculate histograms for each color channel\n",
    "red_hist = np.histogram(red_channel, bins=256, range=(0, 256))\n",
    "green_hist = np.histogram(green_channel, bins=256, range=(0, 256))\n",
    "blue_hist = np.histogram(blue_channel, bins=256, range=(0, 256))\n",
    "\n",
    "# Plot histograms\n",
    "plt.figure(figsize=(10, 5))\n",
    "\n",
    "plt.subplot(131)\n",
    "plt.title('Red Channel Histogram')\n",
    "plt.bar(np.arange(256), red_hist[0])\n",
    "\n",
    "plt.subplot(132)\n",
    "plt.title('Green Channel Histogram')\n",
    "plt.bar(np.arange(256), green_hist[0])\n",
    "\n",
    "plt.subplot(133)\n",
    "plt.title('Blue Channel Histogram')\n",
    "plt.bar(np.arange(256), blue_hist[0])\n",
    "\n",
    "plt.tight_layout()\n",
    "plt.show()\n",
    "\n"
   ]
  },
  {
   "cell_type": "code",
   "execution_count": 34,
   "id": "06923491",
   "metadata": {},
   "outputs": [],
   "source": [
    "def mse(original_array, encrypted_array):\n",
    "    # Calculate squared difference\n",
    "    diff = original_array - encrypted_array\n",
    "    squared_diff = diff ** 2\n",
    "    \n",
    "    # Calculate MSE\n",
    "    mse_value = np.mean(squared_diff)\n",
    "    return mse_value"
   ]
  },
  {
   "cell_type": "code",
   "execution_count": 62,
   "id": "629be914",
   "metadata": {},
   "outputs": [],
   "source": [
    "\n"
   ]
  },
  {
   "cell_type": "code",
   "execution_count": null,
   "id": "bf8cdd7f",
   "metadata": {},
   "outputs": [],
   "source": [
    "def decryption(result)"
   ]
  }
 ],
 "metadata": {
  "kernelspec": {
   "display_name": "Python 3 (ipykernel)",
   "language": "python",
   "name": "python3"
  },
  "language_info": {
   "codemirror_mode": {
    "name": "ipython",
    "version": 3
   },
   "file_extension": ".py",
   "mimetype": "text/x-python",
   "name": "python",
   "nbconvert_exporter": "python",
   "pygments_lexer": "ipython3",
   "version": "3.10.9"
  }
 },
 "nbformat": 4,
 "nbformat_minor": 5
}
